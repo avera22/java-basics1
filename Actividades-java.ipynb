{
 "cells": [
  {
   "cell_type": "code",
   "execution_count": null,
   "metadata": {
    "id": "EcNnRYWOnLkY"
   },
   "outputs": [],
   "source": []
  },
  {
   "cell_type": "code",
   "execution_count": null,
   "metadata": {
    "id": "Kz3sXWNWnPL3",
    "outputId": "cdfc4e11-8984-4902-d59a-354cc3556c53"
   },
   "outputs": [
    {
     "name": "stdout",
     "output_type": "stream",
     "text": [
      "123"
     ]
    }
   ],
   "source": [
    "//Pregunta 1\n",
    "long b0 = 122; \n",
    "long b1 = 1;\n",
    "//El resultado es 123, se suman b0 + b1.\n",
    "int r = (int)(b0 + b1);\n",
    "print(r);"
   ]
  },
  {
   "cell_type": "code",
   "execution_count": null,
   "metadata": {
    "id": "2CktPgjboVE8",
    "outputId": "994ea8aa-1256-4871-ac5e-e2e14a9102c0"
   },
   "outputs": [
    {
     "name": "stdout",
     "output_type": "stream",
     "text": [
      "a\n",
      "97\n",
      "97\n"
     ]
    }
   ],
   "source": [
    "//Pregunta 2 y 3\n",
    "char c = 'a';\n",
    "//La respuesta es \"a\" porque hemos puesto \"c\" que es igual ha \"a\"\n",
    "\n",
    "int n = c;\n",
    "//La repuesta es 9\n",
    "\n",
    "short s = (short)c;\n",
    "//No podremos poner sin conventirlo en short\n",
    "//Hemos forzado el \"c\" para que sea un short\n",
    "\n",
    "println(c);\n",
    "println(n);\n",
    "println(s);"
   ]
  },
  {
   "cell_type": "code",
   "execution_count": null,
   "metadata": {
    "id": "IHhJgDF2JxQO",
    "outputId": "9591b78c-1fec-4a48-ceed-e19371555a96"
   },
   "outputs": [
    {
     "name": "stdout",
     "output_type": "stream",
     "text": [
      "32000\n",
      "-30536\n"
     ]
    }
   ],
   "source": [
    "//Pregunta 4\n",
    "short s = (short)32000;\n",
    "println(s);\n",
    "short s = (short)35000;\n",
    "println(s);\n",
    "//El short tiene el limite del minimo de -32,768 y maximo 32,767"
   ]
  },
  {
   "cell_type": "code",
   "execution_count": null,
   "metadata": {
    "id": "ciwBb2pUJxQP",
    "outputId": "7fbdb4d4-8fd0-4887-d98b-782599919815"
   },
   "outputs": [
    {
     "name": "stdout",
     "output_type": "stream",
     "text": [
      "5.0\n",
      "5\n",
      "10.0\n"
     ]
    }
   ],
   "source": [
    "//Pregunta 5\n",
    "var v = 5.0;\n",
    "var v0 = 5;\n",
    "\n",
    "println(v);\n",
    "println(v0);\n",
    "//El \"v\" es un float y el \"v0\" es un int\n",
    "\n",
    "var v1 = v + v0;\n",
    "println(v1);\n",
    "//El \"v1\" es un "
   ]
  },
  {
   "cell_type": "code",
   "execution_count": 2,
   "metadata": {
    "colab": {
     "base_uri": "https://localhost:8080/",
     "height": 130
    },
    "executionInfo": {
     "elapsed": 17,
     "status": "error",
     "timestamp": 1665493861493,
     "user": {
      "displayName": "Angel Vera",
      "userId": "08402626437473812860"
     },
     "user_tz": -120
    },
    "id": "KwXMagGbJxQQ",
    "outputId": "31eb81fc-2730-4e64-e208-002e6ce2a2f8"
   },
   "outputs": [
    {
     "name": "stdout",
     "output_type": "stream",
     "text": [
      "b\n"
     ]
    }
   ],
   "source": [
    "//Pregunta 8\n",
    "char c = 'a', c1 = 1 ;\n",
    "//estamos sumando un char en un int\n",
    "\n",
    "\n",
    "char c2 = (c += c1) ;\n",
    "//Utilizamos la  funcion +=\n",
    "\n",
    "System.out.println(c2);"
   ]
  },
  {
   "cell_type": "code",
   "execution_count": 1,
   "metadata": {
    "id": "RGYiaWHGJxQQ",
    "outputId": "0a2b1e08-4348-4e60-f0d5-e30751eb6dcc"
   },
   "outputs": [
    {
     "name": "stdout",
     "output_type": "stream",
     "text": [
      "24.0\n"
     ]
    }
   ],
   "source": [
    "//pregunta 9\n",
    "var h = 4 * 4f + (4.0 + 4); //es un double\n",
    "//Estamso asignando un double float\n",
    "\n",
    "float f = (float)h;\n",
    "//Forzamos que se convierte en un float\n",
    "\n",
    "System.out.println(h);"
   ]
  },
  {
   "cell_type": "code",
   "execution_count": 3,
   "metadata": {
    "id": "7SyYlhYDJxQR",
    "outputId": "1ff9b682-d568-461c-8fe4-c11af101f29a"
   },
   "outputs": [
    {
     "name": "stdout",
     "output_type": "stream",
     "text": [
      "true\n"
     ]
    },
    {
     "ename": "CompilationException",
     "evalue": "",
     "output_type": "error",
     "traceback": [
      "\u001b[1m\u001b[30m|   \u001b[1m\u001b[30mprintln(\u001b[0m\u001b[1m\u001b[30m\u001b[41mbol2\u001b[0m\u001b[1m\u001b[30m);\u001b[0m",
      "\u001b[1m\u001b[31mcannot find symbol\u001b[0m",
      "\u001b[1m\u001b[31m  symbol:   variable bol2\u001b[0m",
      ""
     ]
    }
   ],
   "source": [
    "//Pregunta 10\n",
    "byte b0 = 4, b1 = -4, b2 = 12; \n",
    "boolean bol1 = b0 == b2 / 3;\n",
    "//Tiene un  error, porque no estamos usando condiciones estos condiciones(>, <, <= , >= o ==)\n",
    "boolean bol3 = b0 + b1 > b2;\n",
    "\n",
    "println(bol1);\n",
    "println(bol2);\n",
    "println(bol3);"
   ]
  }
 ],
 "metadata": {
  "colab": {
   "collapsed_sections": [],
   "provenance": []
  },
  "kernelspec": {
   "display_name": "Java 17",
   "language": "java",
   "name": "java"
  },
  "language_info": {
   "codemirror_mode": "java",
   "file_extension": ".jshell",
   "mimetype": "text/x-java-source",
   "name": "Java",
   "pygments_lexer": "java",
   "version": "17.0.4+8-LTS"
  }
 },
 "nbformat": 4,
 "nbformat_minor": 4
}
